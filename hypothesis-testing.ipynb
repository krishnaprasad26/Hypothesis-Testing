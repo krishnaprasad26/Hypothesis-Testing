{
 "cells": [
  {
   "cell_type": "markdown",
   "id": "7398691f",
   "metadata": {
    "_cell_guid": "b1076dfc-b9ad-4769-8c92-a6c4dae69d19",
    "_uuid": "8f2839f25d086af736a60e9eeb907d3b93b6e0e5",
    "papermill": {
     "duration": 0.006833,
     "end_time": "2024-08-06T02:53:24.334273",
     "exception": false,
     "start_time": "2024-08-06T02:53:24.327440",
     "status": "completed"
    },
    "tags": []
   },
   "source": [
    "# Aim of the Project\n",
    "The primary aim of this project is to determine whether there is a significant difference in the number of goals scored in women's international soccer matches compared to men's. Specifically, the investigation focuses on whether women's international soccer matches have a higher average number of goals than men's. To achieve this, a statistical hypothesis test will be performed using data from official FIFA World Cup matches (excluding qualifiers) since January 1, 2002."
   ]
  },
  {
   "cell_type": "markdown",
   "id": "240e640b",
   "metadata": {
    "papermill": {
     "duration": 0.006022,
     "end_time": "2024-08-06T02:53:24.347176",
     "exception": false,
     "start_time": "2024-08-06T02:53:24.341154",
     "status": "completed"
    },
    "tags": []
   },
   "source": [
    "# 1. Imports"
   ]
  },
  {
   "cell_type": "code",
   "execution_count": 1,
   "id": "7aa5a6fc",
   "metadata": {
    "execution": {
     "iopub.execute_input": "2024-08-06T02:53:24.361251Z",
     "iopub.status.busy": "2024-08-06T02:53:24.360863Z",
     "iopub.status.idle": "2024-08-06T02:53:38.951378Z",
     "shell.execute_reply": "2024-08-06T02:53:38.950184Z"
    },
    "papermill": {
     "duration": 14.600546,
     "end_time": "2024-08-06T02:53:38.953936",
     "exception": false,
     "start_time": "2024-08-06T02:53:24.353390",
     "status": "completed"
    },
    "tags": []
   },
   "outputs": [
    {
     "name": "stdout",
     "output_type": "stream",
     "text": [
      "Collecting pingouin\r\n",
      "  Downloading pingouin-0.5.4-py2.py3-none-any.whl.metadata (1.1 kB)\r\n",
      "Requirement already satisfied: numpy in /opt/conda/lib/python3.10/site-packages (from pingouin) (1.26.4)\r\n",
      "Requirement already satisfied: scipy in /opt/conda/lib/python3.10/site-packages (from pingouin) (1.11.4)\r\n",
      "Requirement already satisfied: pandas>=1.5 in /opt/conda/lib/python3.10/site-packages (from pingouin) (2.2.2)\r\n",
      "Requirement already satisfied: matplotlib in /opt/conda/lib/python3.10/site-packages (from pingouin) (3.7.5)\r\n",
      "Requirement already satisfied: seaborn in /opt/conda/lib/python3.10/site-packages (from pingouin) (0.12.2)\r\n",
      "Requirement already satisfied: statsmodels in /opt/conda/lib/python3.10/site-packages (from pingouin) (0.14.1)\r\n",
      "Requirement already satisfied: scikit-learn in /opt/conda/lib/python3.10/site-packages (from pingouin) (1.2.2)\r\n",
      "Collecting pandas-flavor (from pingouin)\r\n",
      "  Downloading pandas_flavor-0.6.0-py3-none-any.whl.metadata (6.3 kB)\r\n",
      "Requirement already satisfied: tabulate in /opt/conda/lib/python3.10/site-packages (from pingouin) (0.9.0)\r\n",
      "Requirement already satisfied: python-dateutil>=2.8.2 in /opt/conda/lib/python3.10/site-packages (from pandas>=1.5->pingouin) (2.9.0.post0)\r\n",
      "Requirement already satisfied: pytz>=2020.1 in /opt/conda/lib/python3.10/site-packages (from pandas>=1.5->pingouin) (2023.3.post1)\r\n",
      "Requirement already satisfied: tzdata>=2022.7 in /opt/conda/lib/python3.10/site-packages (from pandas>=1.5->pingouin) (2023.4)\r\n",
      "Requirement already satisfied: contourpy>=1.0.1 in /opt/conda/lib/python3.10/site-packages (from matplotlib->pingouin) (1.2.0)\r\n",
      "Requirement already satisfied: cycler>=0.10 in /opt/conda/lib/python3.10/site-packages (from matplotlib->pingouin) (0.12.1)\r\n",
      "Requirement already satisfied: fonttools>=4.22.0 in /opt/conda/lib/python3.10/site-packages (from matplotlib->pingouin) (4.47.0)\r\n",
      "Requirement already satisfied: kiwisolver>=1.0.1 in /opt/conda/lib/python3.10/site-packages (from matplotlib->pingouin) (1.4.5)\r\n",
      "Requirement already satisfied: packaging>=20.0 in /opt/conda/lib/python3.10/site-packages (from matplotlib->pingouin) (21.3)\r\n",
      "Requirement already satisfied: pillow>=6.2.0 in /opt/conda/lib/python3.10/site-packages (from matplotlib->pingouin) (9.5.0)\r\n",
      "Requirement already satisfied: pyparsing>=2.3.1 in /opt/conda/lib/python3.10/site-packages (from matplotlib->pingouin) (3.1.1)\r\n",
      "Requirement already satisfied: xarray in /opt/conda/lib/python3.10/site-packages (from pandas-flavor->pingouin) (2024.6.0)\r\n",
      "Requirement already satisfied: joblib>=1.1.1 in /opt/conda/lib/python3.10/site-packages (from scikit-learn->pingouin) (1.4.2)\r\n",
      "Requirement already satisfied: threadpoolctl>=2.0.0 in /opt/conda/lib/python3.10/site-packages (from scikit-learn->pingouin) (3.2.0)\r\n",
      "Requirement already satisfied: patsy>=0.5.4 in /opt/conda/lib/python3.10/site-packages (from statsmodels->pingouin) (0.5.6)\r\n",
      "Requirement already satisfied: six in /opt/conda/lib/python3.10/site-packages (from patsy>=0.5.4->statsmodels->pingouin) (1.16.0)\r\n",
      "Collecting packaging>=20.0 (from matplotlib->pingouin)\r\n",
      "  Downloading packaging-24.1-py3-none-any.whl.metadata (3.2 kB)\r\n",
      "Downloading pingouin-0.5.4-py2.py3-none-any.whl (198 kB)\r\n",
      "\u001b[2K   \u001b[90m━━━━━━━━━━━━━━━━━━━━━━━━━━━━━━━━━━━━━━━━\u001b[0m \u001b[32m198.9/198.9 kB\u001b[0m \u001b[31m6.3 MB/s\u001b[0m eta \u001b[36m0:00:00\u001b[0m\r\n",
      "\u001b[?25hDownloading pandas_flavor-0.6.0-py3-none-any.whl (7.2 kB)\r\n",
      "Downloading packaging-24.1-py3-none-any.whl (53 kB)\r\n",
      "\u001b[2K   \u001b[90m━━━━━━━━━━━━━━━━━━━━━━━━━━━━━━━━━━━━━━━━\u001b[0m \u001b[32m54.0/54.0 kB\u001b[0m \u001b[31m2.6 MB/s\u001b[0m eta \u001b[36m0:00:00\u001b[0m\r\n",
      "\u001b[?25hInstalling collected packages: packaging, pandas-flavor, pingouin\r\n",
      "  Attempting uninstall: packaging\r\n",
      "    Found existing installation: packaging 21.3\r\n",
      "    Uninstalling packaging-21.3:\r\n",
      "      Successfully uninstalled packaging-21.3\r\n",
      "\u001b[31mERROR: pip's dependency resolver does not currently take into account all the packages that are installed. This behaviour is the source of the following dependency conflicts.\r\n",
      "keras-cv 0.9.0 requires keras-core, which is not installed.\r\n",
      "tensorflow-decision-forests 1.8.1 requires wurlitzer, which is not installed.\r\n",
      "google-cloud-bigquery 2.34.4 requires packaging<22.0dev,>=14.3, but you have packaging 24.1 which is incompatible.\r\n",
      "jupyterlab 4.2.3 requires jupyter-lsp>=2.0.0, but you have jupyter-lsp 1.5.1 which is incompatible.\r\n",
      "jupyterlab-lsp 5.1.0 requires jupyter-lsp>=2.0.0, but you have jupyter-lsp 1.5.1 which is incompatible.\r\n",
      "libpysal 4.9.2 requires shapely>=2.0.1, but you have shapely 1.8.5.post1 which is incompatible.\r\n",
      "momepy 0.7.2 requires shapely>=2, but you have shapely 1.8.5.post1 which is incompatible.\r\n",
      "osmnx 1.9.3 requires shapely>=2.0, but you have shapely 1.8.5.post1 which is incompatible.\r\n",
      "pointpats 2.5.0 requires shapely>=2, but you have shapely 1.8.5.post1 which is incompatible.\r\n",
      "spaghetti 1.7.6 requires shapely>=2.0.1, but you have shapely 1.8.5.post1 which is incompatible.\r\n",
      "spopt 0.6.1 requires shapely>=2.0.1, but you have shapely 1.8.5.post1 which is incompatible.\r\n",
      "tensorflow 2.15.0 requires keras<2.16,>=2.15.0, but you have keras 3.4.1 which is incompatible.\r\n",
      "ydata-profiling 4.6.4 requires numpy<1.26,>=1.16.0, but you have numpy 1.26.4 which is incompatible.\u001b[0m\u001b[31m\r\n",
      "\u001b[0mSuccessfully installed packaging-24.1 pandas-flavor-0.6.0 pingouin-0.5.4\r\n"
     ]
    }
   ],
   "source": [
    "!pip install pingouin"
   ]
  },
  {
   "cell_type": "code",
   "execution_count": 2,
   "id": "8273668c",
   "metadata": {
    "execution": {
     "iopub.execute_input": "2024-08-06T02:53:38.971222Z",
     "iopub.status.busy": "2024-08-06T02:53:38.970202Z",
     "iopub.status.idle": "2024-08-06T02:53:41.435935Z",
     "shell.execute_reply": "2024-08-06T02:53:41.434727Z"
    },
    "papermill": {
     "duration": 2.477392,
     "end_time": "2024-08-06T02:53:41.438729",
     "exception": false,
     "start_time": "2024-08-06T02:53:38.961337",
     "status": "completed"
    },
    "tags": []
   },
   "outputs": [],
   "source": [
    "import pandas as pd\n",
    "import matplotlib.pyplot as plt\n",
    "import pingouin as pg\n",
    "from scipy.stats import mannwhitneyu"
   ]
  },
  {
   "cell_type": "markdown",
   "id": "9f96ab42",
   "metadata": {
    "papermill": {
     "duration": 0.007412,
     "end_time": "2024-08-06T02:53:41.453916",
     "exception": false,
     "start_time": "2024-08-06T02:53:41.446504",
     "status": "completed"
    },
    "tags": []
   },
   "source": [
    "# 2. Load the Data"
   ]
  },
  {
   "cell_type": "code",
   "execution_count": 3,
   "id": "43799cd5",
   "metadata": {
    "execution": {
     "iopub.execute_input": "2024-08-06T02:53:41.471455Z",
     "iopub.status.busy": "2024-08-06T02:53:41.470432Z",
     "iopub.status.idle": "2024-08-06T02:53:41.601703Z",
     "shell.execute_reply": "2024-08-06T02:53:41.600218Z"
    },
    "papermill": {
     "duration": 0.142955,
     "end_time": "2024-08-06T02:53:41.604469",
     "exception": false,
     "start_time": "2024-08-06T02:53:41.461514",
     "status": "completed"
    },
    "tags": []
   },
   "outputs": [],
   "source": [
    "# Load men's and women's datasets\n",
    "men = pd.read_csv(\"/kaggle/input/soccer-dataset/men_results.csv\")\n",
    "women = pd.read_csv(\"/kaggle/input/soccer-dataset/women_results.csv\")"
   ]
  },
  {
   "cell_type": "markdown",
   "id": "e815137c",
   "metadata": {
    "papermill": {
     "duration": 0.007544,
     "end_time": "2024-08-06T02:53:41.619519",
     "exception": false,
     "start_time": "2024-08-06T02:53:41.611975",
     "status": "completed"
    },
    "tags": []
   },
   "source": [
    "# 3. Filter the Data"
   ]
  },
  {
   "cell_type": "code",
   "execution_count": 4,
   "id": "d3bca4a9",
   "metadata": {
    "execution": {
     "iopub.execute_input": "2024-08-06T02:53:41.636232Z",
     "iopub.status.busy": "2024-08-06T02:53:41.635406Z",
     "iopub.status.idle": "2024-08-06T02:53:41.676295Z",
     "shell.execute_reply": "2024-08-06T02:53:41.675016Z"
    },
    "papermill": {
     "duration": 0.051948,
     "end_time": "2024-08-06T02:53:41.678864",
     "exception": false,
     "start_time": "2024-08-06T02:53:41.626916",
     "status": "completed"
    },
    "tags": []
   },
   "outputs": [],
   "source": [
    "# Filter the data for the time range and tournament\n",
    "men[\"date\"] = pd.to_datetime(men[\"date\"])\n",
    "men_subset = men[(men[\"date\"] > \"2002-01-01\") & (men[\"tournament\"].isin([\"FIFA World Cup\"]))]\n",
    "women[\"date\"] = pd.to_datetime(women[\"date\"])\n",
    "women_subset = women[(women[\"date\"] > \"2002-01-01\") & (women[\"tournament\"].isin([\"FIFA World Cup\"]))]"
   ]
  },
  {
   "cell_type": "markdown",
   "id": "b37dc8e5",
   "metadata": {
    "papermill": {
     "duration": 0.007054,
     "end_time": "2024-08-06T02:53:41.693321",
     "exception": false,
     "start_time": "2024-08-06T02:53:41.686267",
     "status": "completed"
    },
    "tags": []
   },
   "source": [
    "# 4. Calculate Goals Scored"
   ]
  },
  {
   "cell_type": "code",
   "execution_count": 5,
   "id": "948d88d8",
   "metadata": {
    "execution": {
     "iopub.execute_input": "2024-08-06T02:53:41.710443Z",
     "iopub.status.busy": "2024-08-06T02:53:41.710052Z",
     "iopub.status.idle": "2024-08-06T02:53:41.715347Z",
     "shell.execute_reply": "2024-08-06T02:53:41.714225Z"
    },
    "papermill": {
     "duration": 0.016054,
     "end_time": "2024-08-06T02:53:41.717509",
     "exception": false,
     "start_time": "2024-08-06T02:53:41.701455",
     "status": "completed"
    },
    "tags": []
   },
   "outputs": [],
   "source": [
    "import warnings\n",
    "\n",
    "# Suppress all warnings\n",
    "warnings.filterwarnings(\"ignore\")"
   ]
  },
  {
   "cell_type": "code",
   "execution_count": 6,
   "id": "8ce141f0",
   "metadata": {
    "execution": {
     "iopub.execute_input": "2024-08-06T02:53:41.734120Z",
     "iopub.status.busy": "2024-08-06T02:53:41.733377Z",
     "iopub.status.idle": "2024-08-06T02:53:41.743799Z",
     "shell.execute_reply": "2024-08-06T02:53:41.742592Z"
    },
    "papermill": {
     "duration": 0.021515,
     "end_time": "2024-08-06T02:53:41.746386",
     "exception": false,
     "start_time": "2024-08-06T02:53:41.724871",
     "status": "completed"
    },
    "tags": []
   },
   "outputs": [],
   "source": [
    "# Create group and goals_scored columns\n",
    "men_subset[\"group\"] = \"men\"\n",
    "women_subset[\"group\"] = \"women\"\n",
    "men_subset[\"goals_scored\"] = men_subset[\"home_score\"] + men_subset[\"away_score\"]\n",
    "women_subset[\"goals_scored\"] = women_subset[\"home_score\"] + women_subset[\"away_score\"]"
   ]
  },
  {
   "cell_type": "markdown",
   "id": "f6d9c90c",
   "metadata": {
    "papermill": {
     "duration": 0.007095,
     "end_time": "2024-08-06T02:53:41.761239",
     "exception": false,
     "start_time": "2024-08-06T02:53:41.754144",
     "status": "completed"
    },
    "tags": []
   },
   "source": [
    "# 5. Check for Normality"
   ]
  },
  {
   "cell_type": "code",
   "execution_count": 7,
   "id": "5bcadca2",
   "metadata": {
    "execution": {
     "iopub.execute_input": "2024-08-06T02:53:41.777719Z",
     "iopub.status.busy": "2024-08-06T02:53:41.777311Z",
     "iopub.status.idle": "2024-08-06T02:53:42.166220Z",
     "shell.execute_reply": "2024-08-06T02:53:42.165059Z"
    },
    "papermill": {
     "duration": 0.40033,
     "end_time": "2024-08-06T02:53:42.168867",
     "exception": false,
     "start_time": "2024-08-06T02:53:41.768537",
     "status": "completed"
    },
    "tags": []
   },
   "outputs": [
    {
     "data": {
      "image/png": "[encoded data removed]",
      "text/plain": [
       "<Figure size 640x480 with 1 Axes>"
      ]
     },
     "metadata": {},
     "output_type": "display_data"
    },
    {
     "data": {
      "text/plain": [
       "<Figure size 640x480 with 0 Axes>"
      ]
     },
     "metadata": {},
     "output_type": "display_data"
    }
   ],
   "source": [
    "# Determine normality using histograms\n",
    "men_subset[\"goals_scored\"].hist(bins=20, alpha=0.7, label='Men')\n",
    "women_subset[\"goals_scored\"].hist(bins=20, alpha=0.7, label='Women')\n",
    "plt.xlabel('Goals Scored')\n",
    "plt.ylabel('Frequency')\n",
    "plt.title('Distribution of Goals Scored')\n",
    "plt.legend()\n",
    "plt.show()\n",
    "plt.clf()\n"
   ]
  },
  {
   "cell_type": "markdown",
   "id": "ab267e0f",
   "metadata": {
    "papermill": {
     "duration": 0.007856,
     "end_time": "2024-08-06T02:53:42.185178",
     "exception": false,
     "start_time": "2024-08-06T02:53:42.177322",
     "status": "completed"
    },
    "tags": []
   },
   "source": [
    "# 6. Combine the Data"
   ]
  },
  {
   "cell_type": "code",
   "execution_count": 8,
   "id": "d7a283de",
   "metadata": {
    "execution": {
     "iopub.execute_input": "2024-08-06T02:53:42.203406Z",
     "iopub.status.busy": "2024-08-06T02:53:42.202981Z",
     "iopub.status.idle": "2024-08-06T02:53:42.210612Z",
     "shell.execute_reply": "2024-08-06T02:53:42.209570Z"
    },
    "papermill": {
     "duration": 0.01954,
     "end_time": "2024-08-06T02:53:42.212992",
     "exception": false,
     "start_time": "2024-08-06T02:53:42.193452",
     "status": "completed"
    },
    "tags": []
   },
   "outputs": [],
   "source": [
    "# Combine women's and men's data and calculate goals scored in each match\n",
    "both = pd.concat([women_subset, men_subset], axis=0, ignore_index=True)\n"
   ]
  },
  {
   "cell_type": "markdown",
   "id": "f859c867",
   "metadata": {
    "papermill": {
     "duration": 0.007607,
     "end_time": "2024-08-06T02:53:42.228614",
     "exception": false,
     "start_time": "2024-08-06T02:53:42.221007",
     "status": "completed"
    },
    "tags": []
   },
   "source": [
    "# 7. Prepare Data for Mann-Whitney U Test"
   ]
  },
  {
   "cell_type": "code",
   "execution_count": 9,
   "id": "843c3ce7",
   "metadata": {
    "execution": {
     "iopub.execute_input": "2024-08-06T02:53:42.246500Z",
     "iopub.status.busy": "2024-08-06T02:53:42.245826Z",
     "iopub.status.idle": "2024-08-06T02:53:42.261456Z",
     "shell.execute_reply": "2024-08-06T02:53:42.260322Z"
    },
    "papermill": {
     "duration": 0.027454,
     "end_time": "2024-08-06T02:53:42.264118",
     "exception": false,
     "start_time": "2024-08-06T02:53:42.236664",
     "status": "completed"
    },
    "tags": []
   },
   "outputs": [],
   "source": [
    "# Transform the data for the pingouin Mann-Whitney U test\n",
    "both_subset = both[[\"goals_scored\", \"group\"]]\n",
    "both_subset_wide = both_subset.pivot(columns=\"group\", values=\"goals_scored\")\n"
   ]
  },
  {
   "cell_type": "markdown",
   "id": "73fb8bc8",
   "metadata": {
    "papermill": {
     "duration": 0.00805,
     "end_time": "2024-08-06T02:53:42.280388",
     "exception": false,
     "start_time": "2024-08-06T02:53:42.272338",
     "status": "completed"
    },
    "tags": []
   },
   "source": [
    "# 8. Perform Mann-Whitney U Test with Pingouin"
   ]
  },
  {
   "cell_type": "code",
   "execution_count": 10,
   "id": "aae858fd",
   "metadata": {
    "execution": {
     "iopub.execute_input": "2024-08-06T02:53:42.298380Z",
     "iopub.status.busy": "2024-08-06T02:53:42.297971Z",
     "iopub.status.idle": "2024-08-06T02:53:42.310063Z",
     "shell.execute_reply": "2024-08-06T02:53:42.308931Z"
    },
    "papermill": {
     "duration": 0.024225,
     "end_time": "2024-08-06T02:53:42.312653",
     "exception": false,
     "start_time": "2024-08-06T02:53:42.288428",
     "status": "completed"
    },
    "tags": []
   },
   "outputs": [],
   "source": [
    "# Perform right-tailed Wilcoxon-Mann-Whitney test with pingouin\n",
    "results_pg = pg.mwu(x=both_subset_wide[\"women\"],\n",
    "                    y=both_subset_wide[\"men\"],\n",
    "                    alternative=\"greater\")\n"
   ]
  },
  {
   "cell_type": "markdown",
   "id": "00f97051",
   "metadata": {
    "papermill": {
     "duration": 0.007807,
     "end_time": "2024-08-06T02:53:42.328714",
     "exception": false,
     "start_time": "2024-08-06T02:53:42.320907",
     "status": "completed"
    },
    "tags": []
   },
   "source": [
    "# 9. Perform Mann-Whitney U Test with SciPy"
   ]
  },
  {
   "cell_type": "code",
   "execution_count": 11,
   "id": "e01b5a95",
   "metadata": {
    "execution": {
     "iopub.execute_input": "2024-08-06T02:53:42.346607Z",
     "iopub.status.busy": "2024-08-06T02:53:42.345875Z",
     "iopub.status.idle": "2024-08-06T02:53:42.354048Z",
     "shell.execute_reply": "2024-08-06T02:53:42.352857Z"
    },
    "papermill": {
     "duration": 0.019745,
     "end_time": "2024-08-06T02:53:42.356371",
     "exception": false,
     "start_time": "2024-08-06T02:53:42.336626",
     "status": "completed"
    },
    "tags": []
   },
   "outputs": [],
   "source": [
    "# Alternative SciPy solution: Perform right-tailed Wilcoxon-Mann-Whitney test with scipy\n",
    "results_scipy = mannwhitneyu(x=women_subset[\"goals_scored\"],\n",
    "                             y=men_subset[\"goals_scored\"],\n",
    "                             alternative=\"greater\")\n"
   ]
  },
  {
   "cell_type": "markdown",
   "id": "16687ed2",
   "metadata": {
    "papermill": {
     "duration": 0.007687,
     "end_time": "2024-08-06T02:53:42.371982",
     "exception": false,
     "start_time": "2024-08-06T02:53:42.364295",
     "status": "completed"
    },
    "tags": []
   },
   "source": [
    "# 10. Extract and Compare P-Values"
   ]
  },
  {
   "cell_type": "code",
   "execution_count": 12,
   "id": "1021506d",
   "metadata": {
    "execution": {
     "iopub.execute_input": "2024-08-06T02:53:42.389642Z",
     "iopub.status.busy": "2024-08-06T02:53:42.389234Z",
     "iopub.status.idle": "2024-08-06T02:53:42.395226Z",
     "shell.execute_reply": "2024-08-06T02:53:42.393723Z"
    },
    "papermill": {
     "duration": 0.017774,
     "end_time": "2024-08-06T02:53:42.397834",
     "exception": false,
     "start_time": "2024-08-06T02:53:42.380060",
     "status": "completed"
    },
    "tags": []
   },
   "outputs": [],
   "source": [
    "# Extract p-value as a float from pingouin results\n",
    "p_val_pg = results_pg[\"p-val\"].values[0]\n",
    "# Extract p-value as a float from SciPy results\n",
    "p_val_scipy = results_scipy.pvalue\n"
   ]
  },
  {
   "cell_type": "markdown",
   "id": "5a1f4ecc",
   "metadata": {
    "papermill": {
     "duration": 0.007748,
     "end_time": "2024-08-06T02:53:42.413601",
     "exception": false,
     "start_time": "2024-08-06T02:53:42.405853",
     "status": "completed"
    },
    "tags": []
   },
   "source": [
    "# 11. Determine Hypothesis Test Result"
   ]
  },
  {
   "cell_type": "code",
   "execution_count": 13,
   "id": "f939c15f",
   "metadata": {
    "execution": {
     "iopub.execute_input": "2024-08-06T02:53:42.431756Z",
     "iopub.status.busy": "2024-08-06T02:53:42.430823Z",
     "iopub.status.idle": "2024-08-06T02:53:42.435958Z",
     "shell.execute_reply": "2024-08-06T02:53:42.434917Z"
    },
    "papermill": {
     "duration": 0.016619,
     "end_time": "2024-08-06T02:53:42.438165",
     "exception": false,
     "start_time": "2024-08-06T02:53:42.421546",
     "status": "completed"
    },
    "tags": []
   },
   "outputs": [],
   "source": [
    "# Determine hypothesis test result using significance level (0.10)\n",
    "alpha = 0.10\n",
    "result_pg = \"reject\" if p_val_pg <= alpha else \"fail to reject\"\n",
    "result_scipy = \"reject\" if p_val_scipy <= alpha else \"fail to reject\"\n"
   ]
  },
  {
   "cell_type": "markdown",
   "id": "db398a2d",
   "metadata": {
    "papermill": {
     "duration": 0.007659,
     "end_time": "2024-08-06T02:53:42.453939",
     "exception": false,
     "start_time": "2024-08-06T02:53:42.446280",
     "status": "completed"
    },
    "tags": []
   },
   "source": [
    "# 12. Print and Store Results"
   ]
  },
  {
   "cell_type": "code",
   "execution_count": 14,
   "id": "0b99c333",
   "metadata": {
    "execution": {
     "iopub.execute_input": "2024-08-06T02:53:42.471379Z",
     "iopub.status.busy": "2024-08-06T02:53:42.470990Z",
     "iopub.status.idle": "2024-08-06T02:53:42.479261Z",
     "shell.execute_reply": "2024-08-06T02:53:42.478250Z"
    },
    "papermill": {
     "duration": 0.020594,
     "end_time": "2024-08-06T02:53:42.482443",
     "exception": false,
     "start_time": "2024-08-06T02:53:42.461849",
     "status": "completed"
    },
    "tags": []
   },
   "outputs": [
    {
     "name": "stdout",
     "output_type": "stream",
     "text": [
      "Pingouin Mann-Whitney U test result: p-value = 0.0051, decision = reject\n",
      "SciPy Mann-Whitney U test result: p-value = 0.0051, decision = reject\n"
     ]
    },
    {
     "data": {
      "text/plain": [
       "{'p_val_pg': 0.005106609825443641,\n",
       " 'result_pg': 'reject',\n",
       " 'p_val_scipy': 0.005106609825443641,\n",
       " 'result_scipy': 'reject'}"
      ]
     },
     "execution_count": 14,
     "metadata": {},
     "output_type": "execute_result"
    }
   ],
   "source": [
    "# Print the results\n",
    "print(f\"Pingouin Mann-Whitney U test result: p-value = {p_val_pg:.4f}, decision = {result_pg}\")\n",
    "print(f\"SciPy Mann-Whitney U test result: p-value = {p_val_scipy:.4f}, decision = {result_scipy}\")\n",
    "\n",
    "# Summary dictionary\n",
    "result_dict = {\"p_val_pg\": p_val_pg, \"result_pg\": result_pg, \"p_val_scipy\": p_val_scipy, \"result_scipy\": result_scipy}\n",
    "\n",
    "result_dict\n"
   ]
  },
  {
   "cell_type": "markdown",
   "id": "6d8532fa",
   "metadata": {
    "papermill": {
     "duration": 0.008017,
     "end_time": "2024-08-06T02:53:42.498625",
     "exception": false,
     "start_time": "2024-08-06T02:53:42.490608",
     "status": "completed"
    },
    "tags": []
   },
   "source": [
    "**Statistical Test**\n",
    "* Test Selection: Due to the non-normal distribution of the goal data, we employed the Mann-Whitney U test (a non-parametric test) to compare the two groups (men's and women's matches).\n",
    "\n",
    "**Hypotheses:**\n",
    "* Null Hypothesis (𝐻0): The mean number of goals scored in women's international soccer matches is the same as in men's.\n",
    "* Alternative Hypothesis(𝐻𝑎): The mean number of goals scored in women's international soccer matches is greater than in men's."
   ]
  },
  {
   "cell_type": "markdown",
   "id": "0917b6c7",
   "metadata": {
    "papermill": {
     "duration": 0.007718,
     "end_time": "2024-08-06T02:53:42.514649",
     "exception": false,
     "start_time": "2024-08-06T02:53:42.506931",
     "status": "completed"
    },
    "tags": []
   },
   "source": [
    "**Results**\n",
    "**Pingouin Mann-Whitney U Test:**\n",
    "* p-value = 0.0051\n",
    "* Decision: Reject the null hypothesis\n",
    "\n",
    "\n",
    "**SciPy Mann-Whitney U Test:**\n",
    "* p-value = 0.0051\n",
    "* Decision: Reject the null hypothesis\n",
    "\n",
    "\n",
    "**Interpretation**\n",
    "* With a p-value of 0.0051, which is less than the significance level of 0.10, we reject the null hypothesis. This indicates that there is statistically significant evidence to suggest that more goals are scored in women's international soccer matches compared to men's."
   ]
  },
  {
   "cell_type": "markdown",
   "id": "bcb3e2a9",
   "metadata": {
    "papermill": {
     "duration": 0.007727,
     "end_time": "2024-08-06T02:53:42.530495",
     "exception": false,
     "start_time": "2024-08-06T02:53:42.522768",
     "status": "completed"
    },
    "tags": []
   },
   "source": [
    "# Summary\n",
    "* The analysis confirms the initial hypothesis that more goals are scored in women's international soccer matches than in men's. This conclusion is based on the statistical tests applied to the filtered data from official FIFA World Cup matches since January 1, 2002. Both the Pingouin and SciPy implementations of the Mann-Whitney U test yielded identical p-values, strengthening the robustness of our results."
   ]
  }
 ],
 "metadata": {
  "kaggle": {
   "accelerator": "none",
   "dataSources": [
    {
     "datasetId": 5394994,
     "sourceId": 8963137,
     "sourceType": "datasetVersion"
    }
   ],
   "dockerImageVersionId": 30746,
   "isGpuEnabled": false,
   "isInternetEnabled": true,
   "language": "python",
   "sourceType": "notebook"
  },
  "kernelspec": {
   "display_name": "Python 3",
   "language": "python",
   "name": "python3"
  },
  "language_info": {
   "codemirror_mode": {
    "name": "ipython",
    "version": 3
   },
   "file_extension": ".py",
   "mimetype": "text/x-python",
   "name": "python",
   "nbconvert_exporter": "python",
   "pygments_lexer": "ipython3",
   "version": "3.10.13"
  },
  "papermill": {
   "default_parameters": {},
   "duration": 21.607285,
   "end_time": "2024-08-06T02:53:43.160380",
   "environment_variables": {},
   "exception": null,
   "input_path": "__notebook__.ipynb",
   "output_path": "__notebook__.ipynb",
   "parameters": {},
   "start_time": "2024-08-06T02:53:21.553095",
   "version": "2.5.0"
  }
 },
 "nbformat": 4,
 "nbformat_minor": 5
}
